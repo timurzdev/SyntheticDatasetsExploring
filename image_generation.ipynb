{
 "cells": [
  {
   "cell_type": "code",
   "execution_count": 3,
   "id": "ed66839b-4144-4b7c-8c1c-82aae1e02f77",
   "metadata": {
    "tags": [],
    "ExecuteTime": {
     "end_time": "2023-05-17T16:03:28.127626800Z",
     "start_time": "2023-05-17T16:03:26.604536900Z"
    }
   },
   "outputs": [
    {
     "name": "stdout",
     "output_type": "stream",
     "text": [
      "Defaulting to user installation because normal site-packages is not writeable\r\n",
      "Requirement already satisfied: diffusers in /home/tmogus/.local/lib/python3.10/site-packages (0.16.1)\r\n",
      "Requirement already satisfied: transformers in /home/tmogus/.local/lib/python3.10/site-packages (4.29.2)\r\n",
      "Requirement already satisfied: accelerate in /home/tmogus/.local/lib/python3.10/site-packages (0.19.0)\r\n",
      "Requirement already satisfied: scipy in /home/tmogus/.local/lib/python3.10/site-packages (1.10.1)\r\n",
      "Requirement already satisfied: safetensors in /home/tmogus/.local/lib/python3.10/site-packages (0.3.1)\r\n",
      "Requirement already satisfied: Pillow in /home/tmogus/.local/lib/python3.10/site-packages (from diffusers) (9.5.0)\r\n",
      "Requirement already satisfied: regex!=2019.12.17 in /home/tmogus/.local/lib/python3.10/site-packages (from diffusers) (2023.5.5)\r\n",
      "Requirement already satisfied: importlib-metadata in /usr/lib/python3/dist-packages (from diffusers) (4.6.4)\r\n",
      "Requirement already satisfied: filelock in /home/tmogus/.local/lib/python3.10/site-packages (from diffusers) (3.12.0)\r\n",
      "Requirement already satisfied: numpy in /home/tmogus/.local/lib/python3.10/site-packages (from diffusers) (1.24.3)\r\n",
      "Requirement already satisfied: requests in /home/tmogus/.local/lib/python3.10/site-packages (from diffusers) (2.30.0)\r\n",
      "Requirement already satisfied: huggingface-hub>=0.13.2 in /home/tmogus/.local/lib/python3.10/site-packages (from diffusers) (0.14.1)\r\n",
      "Requirement already satisfied: tokenizers!=0.11.3,<0.14,>=0.11.1 in /home/tmogus/.local/lib/python3.10/site-packages (from transformers) (0.13.3)\r\n",
      "Requirement already satisfied: packaging>=20.0 in /home/tmogus/.local/lib/python3.10/site-packages (from transformers) (23.1)\r\n",
      "Requirement already satisfied: tqdm>=4.27 in /home/tmogus/.local/lib/python3.10/site-packages (from transformers) (4.65.0)\r\n",
      "Requirement already satisfied: pyyaml>=5.1 in /usr/lib/python3/dist-packages (from transformers) (5.4.1)\r\n",
      "Requirement already satisfied: psutil in /home/tmogus/.local/lib/python3.10/site-packages (from accelerate) (5.9.5)\r\n",
      "Requirement already satisfied: torch>=1.6.0 in /home/tmogus/.local/lib/python3.10/site-packages (from accelerate) (2.0.1)\r\n",
      "Requirement already satisfied: fsspec in /home/tmogus/.local/lib/python3.10/site-packages (from huggingface-hub>=0.13.2->diffusers) (2023.5.0)\r\n",
      "Requirement already satisfied: typing-extensions>=3.7.4.3 in /home/tmogus/.local/lib/python3.10/site-packages (from huggingface-hub>=0.13.2->diffusers) (4.5.0)\r\n",
      "Requirement already satisfied: sympy in /home/tmogus/.local/lib/python3.10/site-packages (from torch>=1.6.0->accelerate) (1.12)\r\n",
      "Requirement already satisfied: nvidia-curand-cu11==10.2.10.91 in /home/tmogus/.local/lib/python3.10/site-packages (from torch>=1.6.0->accelerate) (10.2.10.91)\r\n",
      "Requirement already satisfied: nvidia-nccl-cu11==2.14.3 in /home/tmogus/.local/lib/python3.10/site-packages (from torch>=1.6.0->accelerate) (2.14.3)\r\n",
      "Requirement already satisfied: nvidia-cusparse-cu11==11.7.4.91 in /home/tmogus/.local/lib/python3.10/site-packages (from torch>=1.6.0->accelerate) (11.7.4.91)\r\n",
      "Requirement already satisfied: nvidia-nvtx-cu11==11.7.91 in /home/tmogus/.local/lib/python3.10/site-packages (from torch>=1.6.0->accelerate) (11.7.91)\r\n",
      "Requirement already satisfied: nvidia-cusolver-cu11==11.4.0.1 in /home/tmogus/.local/lib/python3.10/site-packages (from torch>=1.6.0->accelerate) (11.4.0.1)\r\n",
      "Requirement already satisfied: jinja2 in /home/tmogus/.local/lib/python3.10/site-packages (from torch>=1.6.0->accelerate) (3.1.2)\r\n",
      "Requirement already satisfied: nvidia-cuda-nvrtc-cu11==11.7.99 in /home/tmogus/.local/lib/python3.10/site-packages (from torch>=1.6.0->accelerate) (11.7.99)\r\n",
      "Requirement already satisfied: nvidia-cublas-cu11==11.10.3.66 in /home/tmogus/.local/lib/python3.10/site-packages (from torch>=1.6.0->accelerate) (11.10.3.66)\r\n",
      "Requirement already satisfied: triton==2.0.0 in /home/tmogus/.local/lib/python3.10/site-packages (from torch>=1.6.0->accelerate) (2.0.0)\r\n",
      "Requirement already satisfied: networkx in /home/tmogus/.local/lib/python3.10/site-packages (from torch>=1.6.0->accelerate) (3.1)\r\n",
      "Requirement already satisfied: nvidia-cuda-runtime-cu11==11.7.99 in /home/tmogus/.local/lib/python3.10/site-packages (from torch>=1.6.0->accelerate) (11.7.99)\r\n",
      "Requirement already satisfied: nvidia-cuda-cupti-cu11==11.7.101 in /home/tmogus/.local/lib/python3.10/site-packages (from torch>=1.6.0->accelerate) (11.7.101)\r\n",
      "Requirement already satisfied: nvidia-cufft-cu11==10.9.0.58 in /home/tmogus/.local/lib/python3.10/site-packages (from torch>=1.6.0->accelerate) (10.9.0.58)\r\n",
      "Requirement already satisfied: nvidia-cudnn-cu11==8.5.0.96 in /home/tmogus/.local/lib/python3.10/site-packages (from torch>=1.6.0->accelerate) (8.5.0.96)\r\n",
      "Requirement already satisfied: setuptools in /usr/lib/python3/dist-packages (from nvidia-cublas-cu11==11.10.3.66->torch>=1.6.0->accelerate) (59.6.0)\r\n",
      "Requirement already satisfied: wheel in /usr/lib/python3/dist-packages (from nvidia-cublas-cu11==11.10.3.66->torch>=1.6.0->accelerate) (0.37.1)\r\n",
      "Requirement already satisfied: cmake in /home/tmogus/.local/lib/python3.10/site-packages (from triton==2.0.0->torch>=1.6.0->accelerate) (3.26.3)\r\n",
      "Requirement already satisfied: lit in /home/tmogus/.local/lib/python3.10/site-packages (from triton==2.0.0->torch>=1.6.0->accelerate) (16.0.5)\r\n",
      "Requirement already satisfied: urllib3<3,>=1.21.1 in /home/tmogus/.local/lib/python3.10/site-packages (from requests->diffusers) (2.0.2)\r\n",
      "Requirement already satisfied: charset-normalizer<4,>=2 in /home/tmogus/.local/lib/python3.10/site-packages (from requests->diffusers) (3.1.0)\r\n",
      "Requirement already satisfied: idna<4,>=2.5 in /home/tmogus/.local/lib/python3.10/site-packages (from requests->diffusers) (3.4)\r\n",
      "Requirement already satisfied: certifi>=2017.4.17 in /home/tmogus/.local/lib/python3.10/site-packages (from requests->diffusers) (2023.5.7)\r\n",
      "Requirement already satisfied: MarkupSafe>=2.0 in /home/tmogus/.local/lib/python3.10/site-packages (from jinja2->torch>=1.6.0->accelerate) (2.1.2)\r\n",
      "Requirement already satisfied: mpmath>=0.19 in /home/tmogus/.local/lib/python3.10/site-packages (from sympy->torch>=1.6.0->accelerate) (1.3.0)\r\n"
     ]
    }
   ],
   "source": [
    "!pip install diffusers transformers accelerate scipy safetensors"
   ]
  },
  {
   "cell_type": "code",
   "execution_count": 2,
   "id": "41ccc644-e960-413c-9380-8610ebb17c51",
   "metadata": {
    "tags": [],
    "ExecuteTime": {
     "end_time": "2023-05-17T16:18:17.663952600Z",
     "start_time": "2023-05-17T16:18:04.661008900Z"
    }
   },
   "outputs": [],
   "source": [
    "from diffusers import StableDiffusionPipeline, EulerDiscreteScheduler\n",
    "import torch\n",
    "\n",
    "model_id = \"stabilityai/stable-diffusion-2-base\"\n",
    "\n",
    "# Use the Euler scheduler here instead\n",
    "scheduler = EulerDiscreteScheduler.from_pretrained(model_id, subfolder=\"scheduler\")\n",
    "pipe = StableDiffusionPipeline.from_pretrained(model_id, scheduler=scheduler, torch_dtype=torch.float16)\n",
    "pipe = pipe.to(\"cuda\")"
   ]
  },
  {
   "cell_type": "code",
   "execution_count": null,
   "id": "ecc678d5-99a1-47dc-b8cd-622a52c6b8f9",
   "metadata": {
    "tags": [],
    "is_executing": true,
    "ExecuteTime": {
     "start_time": "2023-05-17T16:18:25.522369500Z"
    }
   },
   "outputs": [
    {
     "name": "stdout",
     "output_type": "stream",
     "text": [
      "e87d2308-b78a-40c2-a4af-9958b716f8fd\n"
     ]
    },
    {
     "data": {
      "text/plain": "  0%|          | 0/50 [00:00<?, ?it/s]",
      "application/vnd.jupyter.widget-view+json": {
       "version_major": 2,
       "version_minor": 0,
       "model_id": "b753090435954c3dbf8974e4b8d9fcb2"
      }
     },
     "metadata": {},
     "output_type": "display_data"
    }
   ],
   "source": [
    "num_images = 500\n",
    "from uuid import uuid4\n",
    "animals = [\"cheetah\", 'lion']\n",
    "\n",
    "print(uuid4()) \n",
    "for animal in animals:\n",
    "    for i in range(num_images):\n",
    "        image = image = pipe(f\"{animal} in natural habitat\").images[0]\n",
    "        image.save(f\"./data/synthetic/{animal}/{uuid4()}.png\")"
   ]
  },
  {
   "cell_type": "code",
   "execution_count": null,
   "id": "83b7f0af-77f0-476d-ae3f-1f7f9325703e",
   "metadata": {},
   "outputs": [],
   "source": []
  }
 ],
 "metadata": {
  "kernelspec": {
   "display_name": "Python 3 (ipykernel)",
   "language": "python",
   "name": "python3"
  },
  "language_info": {
   "codemirror_mode": {
    "name": "ipython",
    "version": 3
   },
   "file_extension": ".py",
   "mimetype": "text/x-python",
   "name": "python",
   "nbconvert_exporter": "python",
   "pygments_lexer": "ipython3",
   "version": "3.11.3"
  }
 },
 "nbformat": 4,
 "nbformat_minor": 5
}
